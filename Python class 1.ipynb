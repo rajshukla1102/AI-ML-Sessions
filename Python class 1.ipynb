{
 "cells": [
  {
   "cell_type": "code",
   "execution_count": 1,
   "id": "cb63e584",
   "metadata": {},
   "outputs": [],
   "source": [
    "# PYTHON \n",
    "# sYNTAX\n",
    "#VARIABLES\n",
    "#OPERATORS\n",
    "#CONDITIONAL STATEMENTS AND LOOP\n",
    "#LIST TUPLE AND SET"
   ]
  },
  {
   "cell_type": "code",
   "execution_count": 2,
   "id": "37a0f8f3",
   "metadata": {},
   "outputs": [],
   "source": [
    "#jupyter shortcut\n",
    "#Press H by clicking outside cell to check all shortcuts\n",
    "#ctrl+enter ---> run the current cell without adding another cell\n",
    "#shift+enter ----> run the current cell and add another cell\n",
    "# enter tab for suggestion\n",
    "#ctrl + / for comments"
   ]
  },
  {
   "cell_type": "code",
   "execution_count": 3,
   "id": "f6b16405",
   "metadata": {},
   "outputs": [
    {
     "name": "stdout",
     "output_type": "stream",
     "text": [
      "Python mast language hai\n"
     ]
    }
   ],
   "source": [
    "print(\"Python mast language hai\")\n",
    "# Hello world"
   ]
  },
  {
   "cell_type": "code",
   "execution_count": 4,
   "id": "4d455c7a",
   "metadata": {},
   "outputs": [
    {
     "name": "stdout",
     "output_type": "stream",
     "text": [
      "this is python class\n"
     ]
    }
   ],
   "source": [
    "print(\"this is python class\")"
   ]
  },
  {
   "cell_type": "markdown",
   "id": "0c637d64",
   "metadata": {},
   "source": [
    "## Markdown\n",
    "#### press esc + 1 or esc + 2 till esc + 6"
   ]
  },
  {
   "cell_type": "markdown",
   "id": "a70cc16e",
   "metadata": {},
   "source": [
    "### Variables\n",
    "##### Variables acts as a containers for storing data values\n",
    "##### A variable is created when we assign a value into it\n",
    "##### Unlike other programming language we don't have to write declare its data type!"
   ]
  },
  {
   "cell_type": "code",
   "execution_count": 5,
   "id": "c282c844",
   "metadata": {},
   "outputs": [],
   "source": [
    "a=23\n",
    "a=a\n",
    "c=\"python\""
   ]
  },
  {
   "cell_type": "code",
   "execution_count": 6,
   "id": "ca84eb85",
   "metadata": {},
   "outputs": [
    {
     "data": {
      "text/plain": [
       "int"
      ]
     },
     "execution_count": 6,
     "metadata": {},
     "output_type": "execute_result"
    }
   ],
   "source": [
    "#using type function one can know its data type\n",
    "type(a)"
   ]
  },
  {
   "cell_type": "code",
   "execution_count": 7,
   "id": "935f7790",
   "metadata": {},
   "outputs": [
    {
     "data": {
      "text/plain": [
       "str"
      ]
     },
     "execution_count": 7,
     "metadata": {},
     "output_type": "execute_result"
    }
   ],
   "source": [
    "type(c)"
   ]
  },
  {
   "cell_type": "code",
   "execution_count": 8,
   "id": "c5e5fc8d",
   "metadata": {},
   "outputs": [],
   "source": [
    "#Rules for writing variables\n",
    "#Start with letter or underscore\n",
    "#shouldn't start with a number \n",
    "# Contains only A-Za-z0-9 and _ apart from these no other charcter is used\n",
    "# Shouldn't be any reserved keyword\n",
    "# _tr,tr1,Art,ra_t--->right\n",
    "#2ere,ret-run, er ror--->wrong form\n"
   ]
  },
  {
   "cell_type": "code",
   "execution_count": 9,
   "id": "c60e3b7d",
   "metadata": {},
   "outputs": [
    {
     "name": "stdout",
     "output_type": "stream",
     "text": [
      "a\n",
      "b\n",
      "c\n"
     ]
    }
   ],
   "source": [
    "# One liner to assign values\n",
    "x,y,z='a','b','c'\n",
    "print(x)\n",
    "print(y)\n",
    "print(z)"
   ]
  },
  {
   "cell_type": "code",
   "execution_count": 10,
   "id": "3de6f61d",
   "metadata": {},
   "outputs": [
    {
     "data": {
      "text/plain": [
       "('a', 'b', 'c')"
      ]
     },
     "execution_count": 10,
     "metadata": {},
     "output_type": "execute_result"
    }
   ],
   "source": [
    "x,y,z"
   ]
  },
  {
   "cell_type": "code",
   "execution_count": 11,
   "id": "095b38f2",
   "metadata": {},
   "outputs": [],
   "source": [
    "# One liner to assign same values to all values\n",
    "x=y=z='a'"
   ]
  },
  {
   "cell_type": "code",
   "execution_count": 12,
   "id": "62b3e534",
   "metadata": {},
   "outputs": [
    {
     "data": {
      "text/plain": [
       "('a', 'a', 'a')"
      ]
     },
     "execution_count": 12,
     "metadata": {},
     "output_type": "execute_result"
    }
   ],
   "source": [
    "x,y,z"
   ]
  },
  {
   "cell_type": "markdown",
   "id": "cd1c28c7",
   "metadata": {},
   "source": [
    "### Data types\n"
   ]
  },
  {
   "cell_type": "markdown",
   "id": "040082f6",
   "metadata": {},
   "source": [
    "### String\n",
    "##### Like any other programming language, string in python are arrays of bytes representing unicode character\n",
    "##### We can assign a string to a variable using single quote or double quote\n",
    "##### To access characters we do slicing with the help of [ ] square bracket \n",
    "##### stringVariable[start index:end index: steps(By default 1)] "
   ]
  },
  {
   "cell_type": "code",
   "execution_count": 13,
   "id": "f9955ddf",
   "metadata": {},
   "outputs": [],
   "source": [
    "a=\"stringss\""
   ]
  },
  {
   "cell_type": "code",
   "execution_count": 14,
   "id": "857fe124",
   "metadata": {},
   "outputs": [
    {
     "data": {
      "text/plain": [
       "str"
      ]
     },
     "execution_count": 14,
     "metadata": {},
     "output_type": "execute_result"
    }
   ],
   "source": [
    "type(a)"
   ]
  },
  {
   "cell_type": "code",
   "execution_count": 15,
   "id": "63126fd0",
   "metadata": {},
   "outputs": [
    {
     "name": "stdout",
     "output_type": "stream",
     "text": [
      "s\n"
     ]
    }
   ],
   "source": [
    "print(a[0])"
   ]
  },
  {
   "cell_type": "code",
   "execution_count": 16,
   "id": "7846d029",
   "metadata": {},
   "outputs": [
    {
     "name": "stdout",
     "output_type": "stream",
     "text": [
      "str\n"
     ]
    }
   ],
   "source": [
    "print(a[0:3])\n",
    "# Here start index is 0 and end index is 3(not included)\n",
    "#s-0,t-1,r-2,i-3,n-4,g-5"
   ]
  },
  {
   "cell_type": "code",
   "execution_count": 17,
   "id": "5f3ae36d",
   "metadata": {},
   "outputs": [
    {
     "name": "stdout",
     "output_type": "stream",
     "text": [
      "ringss\n"
     ]
    }
   ],
   "source": [
    "print(a[2:])"
   ]
  },
  {
   "cell_type": "code",
   "execution_count": 18,
   "id": "47c68e56",
   "metadata": {},
   "outputs": [
    {
     "name": "stdout",
     "output_type": "stream",
     "text": [
      "rin\n"
     ]
    }
   ],
   "source": [
    "print(a[2:5])"
   ]
  },
  {
   "cell_type": "code",
   "execution_count": 19,
   "id": "51977d01",
   "metadata": {},
   "outputs": [
    {
     "name": "stdout",
     "output_type": "stream",
     "text": [
      "ngs\n"
     ]
    }
   ],
   "source": [
    "print(a[-4:-1])"
   ]
  },
  {
   "cell_type": "code",
   "execution_count": 20,
   "id": "3424e524",
   "metadata": {},
   "outputs": [
    {
     "name": "stdout",
     "output_type": "stream",
     "text": [
      "srns\n"
     ]
    }
   ],
   "source": [
    "print(a[0::2])"
   ]
  },
  {
   "cell_type": "code",
   "execution_count": 21,
   "id": "08a03463",
   "metadata": {},
   "outputs": [],
   "source": [
    "a=\"Python is good\""
   ]
  },
  {
   "cell_type": "code",
   "execution_count": 22,
   "id": "ca5e0242",
   "metadata": {},
   "outputs": [],
   "source": [
    "#lower() -covert into lower case"
   ]
  },
  {
   "cell_type": "code",
   "execution_count": 23,
   "id": "dbc9d17b",
   "metadata": {},
   "outputs": [
    {
     "data": {
      "text/plain": [
       "'python is good'"
      ]
     },
     "execution_count": 23,
     "metadata": {},
     "output_type": "execute_result"
    }
   ],
   "source": [
    "a.lower()"
   ]
  },
  {
   "cell_type": "code",
   "execution_count": 24,
   "id": "faa7b7e8",
   "metadata": {},
   "outputs": [],
   "source": [
    "#upper()- convert our string into uppercase"
   ]
  },
  {
   "cell_type": "code",
   "execution_count": 25,
   "id": "97dd662f",
   "metadata": {},
   "outputs": [
    {
     "data": {
      "text/plain": [
       "'PYTHON IS GOOD'"
      ]
     },
     "execution_count": 25,
     "metadata": {},
     "output_type": "execute_result"
    }
   ],
   "source": [
    "a.upper()"
   ]
  },
  {
   "cell_type": "code",
   "execution_count": 26,
   "id": "5296c703",
   "metadata": {},
   "outputs": [],
   "source": [
    "b=\"   python is not to easy\""
   ]
  },
  {
   "cell_type": "code",
   "execution_count": 27,
   "id": "d28bf589",
   "metadata": {},
   "outputs": [
    {
     "data": {
      "text/plain": [
       "'python is not to easy'"
      ]
     },
     "execution_count": 27,
     "metadata": {},
     "output_type": "execute_result"
    }
   ],
   "source": [
    "b.strip()\n",
    "# Remove beginning spaces"
   ]
  },
  {
   "cell_type": "code",
   "execution_count": 28,
   "id": "c440c59c",
   "metadata": {},
   "outputs": [],
   "source": [
    "c=\"too good good\""
   ]
  },
  {
   "cell_type": "code",
   "execution_count": 29,
   "id": "99062c11",
   "metadata": {},
   "outputs": [],
   "source": [
    "ret=c.replace('good','worst')\n",
    "# replace fuction replaces a specified value with another given value"
   ]
  },
  {
   "cell_type": "code",
   "execution_count": 30,
   "id": "adeb11a2",
   "metadata": {},
   "outputs": [
    {
     "name": "stdout",
     "output_type": "stream",
     "text": [
      "too worst worst\n"
     ]
    }
   ],
   "source": [
    "print(ret)"
   ]
  },
  {
   "cell_type": "code",
   "execution_count": 31,
   "id": "0c59fe4d",
   "metadata": {},
   "outputs": [
    {
     "data": {
      "text/plain": [
       "'too worst worst'"
      ]
     },
     "execution_count": 31,
     "metadata": {},
     "output_type": "execute_result"
    }
   ],
   "source": [
    "ret"
   ]
  },
  {
   "cell_type": "code",
   "execution_count": 32,
   "id": "2efefc96",
   "metadata": {},
   "outputs": [],
   "source": [
    "a=\"python \\\"error\\\" good\"\n",
    "# To insert characters that are illegal in a string, use an escape character.\n",
    "# An escape character is a backslash \\ followed by the character you want to insert."
   ]
  },
  {
   "cell_type": "code",
   "execution_count": 33,
   "id": "0532ea7f",
   "metadata": {},
   "outputs": [
    {
     "data": {
      "text/plain": [
       "'python \"error\" good'"
      ]
     },
     "execution_count": 33,
     "metadata": {},
     "output_type": "execute_result"
    }
   ],
   "source": [
    "a"
   ]
  },
  {
   "cell_type": "code",
   "execution_count": 34,
   "id": "156713f4",
   "metadata": {},
   "outputs": [],
   "source": [
    "a1=\"python\"\n",
    "a2=\"too good\""
   ]
  },
  {
   "cell_type": "code",
   "execution_count": 35,
   "id": "7aec9660",
   "metadata": {},
   "outputs": [
    {
     "name": "stdout",
     "output_type": "stream",
     "text": [
      "python too good\n",
      "python too good\n"
     ]
    }
   ],
   "source": [
    "print(a1+\" \"+a2)\n",
    "print(a1,a2)\n",
    "# Joining two string with the help of +\n",
    "# We can join by printing print(a1,a2)"
   ]
  },
  {
   "cell_type": "markdown",
   "id": "55f53bdc",
   "metadata": {},
   "source": [
    "### Casting\n",
    "##### We can do casting when we have convert a variable value from one type to another. It can be done with functions such as int() or float() or str()\n",
    "###### a=1 (type integer)\n",
    "###### we can cast \"a\" into string simply by writing str(a) now the type of a is string"
   ]
  },
  {
   "cell_type": "code",
   "execution_count": 36,
   "id": "f1c277f6",
   "metadata": {},
   "outputs": [
    {
     "name": "stdout",
     "output_type": "stream",
     "text": [
      "python2.7\n"
     ]
    }
   ],
   "source": [
    "a2=\"python\"\n",
    "b2=str(2.7)\n",
    "print(a2+b2)\n",
    "# In python you can't concatenate string with integer for this you need to change integer to string."
   ]
  },
  {
   "cell_type": "code",
   "execution_count": 37,
   "id": "742293c8",
   "metadata": {},
   "outputs": [
    {
     "name": "stdout",
     "output_type": "stream",
     "text": [
      "<class 'str'>\n",
      "python was invented in 1991\n"
     ]
    }
   ],
   "source": [
    "a='python was invented in'\n",
    "b=1991\n",
    "print(type(str(b)))\n",
    "# if we simply print a,b then it will show error so we cast \"b\" into string\n",
    "print(a,str(b))"
   ]
  },
  {
   "cell_type": "markdown",
   "id": "aab94e4a",
   "metadata": {},
   "source": [
    "### Formatting String"
   ]
  },
  {
   "cell_type": "code",
   "execution_count": 38,
   "id": "247adce9",
   "metadata": {},
   "outputs": [],
   "source": [
    "txt=a.format(b)"
   ]
  },
  {
   "cell_type": "code",
   "execution_count": 39,
   "id": "0d2da8d2",
   "metadata": {},
   "outputs": [
    {
     "name": "stdout",
     "output_type": "stream",
     "text": [
      "python was invented in 1991 and current year is 2021\n"
     ]
    }
   ],
   "source": [
    "print(\"python was invented in {} and current year is {}\".format(1991,2021))"
   ]
  },
  {
   "cell_type": "code",
   "execution_count": 40,
   "id": "7b981006",
   "metadata": {},
   "outputs": [
    {
     "name": "stdout",
     "output_type": "stream",
     "text": [
      "everyone is in python class at 9\n"
     ]
    }
   ],
   "source": [
    "b=\"everyone is in python class at {}\"\n",
    "c=9\n",
    "print(b.format(c))"
   ]
  },
  {
   "cell_type": "markdown",
   "id": "31f70a14",
   "metadata": {},
   "source": [
    "### Operators\n",
    "##### eg a+b=c Here the whole eqn known as expression a and b is known as operands and + is operator"
   ]
  },
  {
   "cell_type": "code",
   "execution_count": 41,
   "id": "a421ca37",
   "metadata": {},
   "outputs": [],
   "source": [
    "#Arithematic operator--> Performs arithematic calculation like + - * / ** % //\n",
    "#Assignment operator-->  Assignment operators are used to assign values to variables like =,+=,-=,\n",
    "# Logical operator ---> and or not\n",
    "#Comparison operator---> Used for comparison > < >= <= !="
   ]
  },
  {
   "cell_type": "markdown",
   "id": "dc0cf865",
   "metadata": {},
   "source": [
    "###### Don't get confuse between == and =\n",
    "##### \"==\" is comparison operator and \"=\" is assignment operator"
   ]
  },
  {
   "cell_type": "code",
   "execution_count": 42,
   "id": "9f529227",
   "metadata": {},
   "outputs": [
    {
     "data": {
      "text/plain": [
       "5"
      ]
     },
     "execution_count": 42,
     "metadata": {},
     "output_type": "execute_result"
    }
   ],
   "source": [
    "a=2\n",
    "b=3\n",
    "c=a+b\n",
    "c"
   ]
  },
  {
   "cell_type": "code",
   "execution_count": 43,
   "id": "12fdb703",
   "metadata": {},
   "outputs": [
    {
     "name": "stdout",
     "output_type": "stream",
     "text": [
      "8\n"
     ]
    }
   ],
   "source": [
    "a=2\n",
    "b=3\n",
    "print(2**3)"
   ]
  },
  {
   "cell_type": "code",
   "execution_count": 44,
   "id": "6e16cd0d",
   "metadata": {},
   "outputs": [
    {
     "data": {
      "text/plain": [
       "3.5"
      ]
     },
     "execution_count": 44,
     "metadata": {},
     "output_type": "execute_result"
    }
   ],
   "source": [
    "7/2"
   ]
  },
  {
   "cell_type": "code",
   "execution_count": 45,
   "id": "ab6eed27",
   "metadata": {},
   "outputs": [
    {
     "data": {
      "text/plain": [
       "3"
      ]
     },
     "execution_count": 45,
     "metadata": {},
     "output_type": "execute_result"
    }
   ],
   "source": [
    "7//2"
   ]
  },
  {
   "cell_type": "code",
   "execution_count": 46,
   "id": "fe0f383d",
   "metadata": {},
   "outputs": [
    {
     "data": {
      "text/plain": [
       "0"
      ]
     },
     "execution_count": 46,
     "metadata": {},
     "output_type": "execute_result"
    }
   ],
   "source": [
    "6%2"
   ]
  },
  {
   "cell_type": "code",
   "execution_count": 47,
   "id": "80576ec9",
   "metadata": {},
   "outputs": [],
   "source": [
    "#Assignment operator\n",
    "#a+=b a=a+b\n",
    "#a*=b a=a*b\n",
    "a=2\n",
    "# Assigning a value to variable \"a\" with the help of assignment operator \"=\"\n",
    "# a+= #5\n",
    "# b=a+3 #5+3\n",
    "a*=3"
   ]
  },
  {
   "cell_type": "code",
   "execution_count": 48,
   "id": "800bf287",
   "metadata": {},
   "outputs": [],
   "source": [
    "#Comparison operator"
   ]
  },
  {
   "cell_type": "code",
   "execution_count": 49,
   "id": "805362bb",
   "metadata": {},
   "outputs": [],
   "source": [
    "# == > < >= <= !="
   ]
  },
  {
   "cell_type": "code",
   "execution_count": 50,
   "id": "e755be43",
   "metadata": {},
   "outputs": [
    {
     "name": "stdout",
     "output_type": "stream",
     "text": [
      "False\n"
     ]
    }
   ],
   "source": [
    "# a=\"eefrf\"\n",
    "# print(bool(a))\n",
    "a=''\n",
    "print(bool(a))"
   ]
  },
  {
   "cell_type": "code",
   "execution_count": 51,
   "id": "eba83c9c",
   "metadata": {},
   "outputs": [
    {
     "data": {
      "text/plain": [
       "False"
      ]
     },
     "execution_count": 51,
     "metadata": {},
     "output_type": "execute_result"
    }
   ],
   "source": [
    "a=6\n",
    "b=7\n",
    "a==b"
   ]
  },
  {
   "cell_type": "code",
   "execution_count": 52,
   "id": "e82ffc72",
   "metadata": {},
   "outputs": [
    {
     "data": {
      "text/plain": [
       "False"
      ]
     },
     "execution_count": 52,
     "metadata": {},
     "output_type": "execute_result"
    }
   ],
   "source": [
    "a>b"
   ]
  },
  {
   "cell_type": "code",
   "execution_count": 53,
   "id": "2fa1cb12",
   "metadata": {},
   "outputs": [
    {
     "data": {
      "text/plain": [
       "True"
      ]
     },
     "execution_count": 53,
     "metadata": {},
     "output_type": "execute_result"
    }
   ],
   "source": [
    "a!=b"
   ]
  },
  {
   "cell_type": "code",
   "execution_count": 54,
   "id": "bc65039d",
   "metadata": {},
   "outputs": [
    {
     "data": {
      "text/plain": [
       "True"
      ]
     },
     "execution_count": 54,
     "metadata": {},
     "output_type": "execute_result"
    }
   ],
   "source": [
    "a<=b"
   ]
  },
  {
   "cell_type": "code",
   "execution_count": 55,
   "id": "9928bb52",
   "metadata": {},
   "outputs": [
    {
     "name": "stdout",
     "output_type": "stream",
     "text": [
      "True\n",
      "True\n",
      "x and y is True\n",
      "x or y is 3\n",
      " not is x False\n"
     ]
    }
   ],
   "source": [
    "#Logical Operator\n",
    "#and or not\n",
    "x = 3\n",
    "print(bool(x)) #true\n",
    "y = 2\n",
    "print(bool(y)) #true\n",
    "print (\"x and y is\" , bool(x) and bool(y))\n",
    "print(\"x or y is\" , x or y)\n",
    "print(\" not is x\", not x)"
   ]
  },
  {
   "cell_type": "markdown",
   "id": "a360ed82",
   "metadata": {},
   "source": [
    "## Indentation\n",
    "#### it refers to the spaces at the beginning of code line\n",
    "#### It is used to indicate a block of code \n",
    "    "
   ]
  },
  {
   "cell_type": "markdown",
   "id": "142abb55",
   "metadata": {},
   "source": [
    "# Conditional Statement"
   ]
  },
  {
   "cell_type": "code",
   "execution_count": 56,
   "id": "dd84fd45",
   "metadata": {},
   "outputs": [
    {
     "name": "stdout",
     "output_type": "stream",
     "text": [
      "very good\n"
     ]
    }
   ],
   "source": [
    "# if statement\n",
    "# if condition:\n",
    "#     output\n",
    "\n",
    "a=8\n",
    "b=7\n",
    "if a>b:\n",
    "    print(\"very good\")\n",
    "# The spaces before print statement is indentation"
   ]
  },
  {
   "cell_type": "code",
   "execution_count": 57,
   "id": "df2e10fe",
   "metadata": {},
   "outputs": [
    {
     "name": "stdout",
     "output_type": "stream",
     "text": [
      "15\n"
     ]
    }
   ],
   "source": [
    "# if else statement\n",
    "# if condition:\n",
    "#     output\n",
    "# else:\n",
    "#     output\n",
    "a=7\n",
    "b=8\n",
    "if b>a:\n",
    "    print(a+b)\n",
    "else:\n",
    "    print(a-b)"
   ]
  },
  {
   "cell_type": "code",
   "execution_count": 58,
   "id": "820f34fe",
   "metadata": {},
   "outputs": [],
   "source": [
    "# if elif else statement\n",
    "# if condition:\n",
    "#     output\n",
    "# elif condition:\n",
    "#     output\n",
    "#     .\n",
    "#     .\n",
    "#     .\n",
    "# else \n",
    "#     output"
   ]
  },
  {
   "cell_type": "code",
   "execution_count": 59,
   "id": "d97a0eb2",
   "metadata": {},
   "outputs": [
    {
     "name": "stdout",
     "output_type": "stream",
     "text": [
      "-3\n"
     ]
    }
   ],
   "source": [
    "a=3\n",
    "b=6\n",
    "if a==b:\n",
    "    print(a*b)\n",
    "elif a>b:\n",
    "    print(a+b)\n",
    "else:\n",
    "    print(a-b)"
   ]
  },
  {
   "cell_type": "code",
   "execution_count": 60,
   "id": "a88e0f31",
   "metadata": {},
   "outputs": [],
   "source": [
    "# Break"
   ]
  }
 ],
 "metadata": {
  "kernelspec": {
   "display_name": "Python 3",
   "language": "python",
   "name": "python3"
  },
  "language_info": {
   "codemirror_mode": {
    "name": "ipython",
    "version": 3
   },
   "file_extension": ".py",
   "mimetype": "text/x-python",
   "name": "python",
   "nbconvert_exporter": "python",
   "pygments_lexer": "ipython3",
   "version": "3.9.2"
  }
 },
 "nbformat": 4,
 "nbformat_minor": 5
}
