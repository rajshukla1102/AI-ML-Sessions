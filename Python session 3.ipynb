{
 "cells": [
  {
   "cell_type": "code",
   "execution_count": 1,
   "id": "a4ee2af8",
   "metadata": {},
   "outputs": [],
   "source": [
    "# list mutuable , takes more memory(performance dec), slow accessing,[],ordered, duplicates are allowed\n",
    "# tuple immutable, take less memory(performance fast), we can access values in tuples fast,(), duplicates are allowed\n",
    "# dictoanry mutuable ordered and doesn't allow duplicates"
   ]
  },
  {
   "cell_type": "code",
   "execution_count": 2,
   "id": "63140e4a",
   "metadata": {},
   "outputs": [],
   "source": [
    "# (10)+[3] TypeError: unsupported operand type(s) for +: 'int' and 'list'\n",
    "# a=(10) #type int\n",
    "# a=(10,)#type tuple\n",
    "# type(a)"
   ]
  },
  {
   "cell_type": "code",
   "execution_count": 3,
   "id": "5589c862",
   "metadata": {},
   "outputs": [],
   "source": [
    "# Dictionary ordered mutuable and doesmt duplicates\n",
    "a={'a':12,'b':14}"
   ]
  },
  {
   "cell_type": "code",
   "execution_count": 4,
   "id": "99197ca1",
   "metadata": {},
   "outputs": [
    {
     "data": {
      "text/plain": [
       "{'a': 12, 'b': 14}"
      ]
     },
     "execution_count": 4,
     "metadata": {},
     "output_type": "execute_result"
    }
   ],
   "source": [
    "a"
   ]
  },
  {
   "cell_type": "code",
   "execution_count": 5,
   "id": "5d81ee97",
   "metadata": {},
   "outputs": [],
   "source": [
    "a={'a':12,'b':14,'a':12}"
   ]
  },
  {
   "cell_type": "code",
   "execution_count": 6,
   "id": "23da6371",
   "metadata": {},
   "outputs": [
    {
     "data": {
      "text/plain": [
       "{'a': 12, 'b': 14}"
      ]
     },
     "execution_count": 6,
     "metadata": {},
     "output_type": "execute_result"
    }
   ],
   "source": [
    "a"
   ]
  },
  {
   "cell_type": "code",
   "execution_count": 7,
   "id": "f1863af6",
   "metadata": {},
   "outputs": [
    {
     "data": {
      "text/plain": [
       "12"
      ]
     },
     "execution_count": 7,
     "metadata": {},
     "output_type": "execute_result"
    }
   ],
   "source": [
    "# Accessing values\n",
    "a['a']"
   ]
  },
  {
   "cell_type": "code",
   "execution_count": 8,
   "id": "27616a39",
   "metadata": {},
   "outputs": [
    {
     "data": {
      "text/plain": [
       "12"
      ]
     },
     "execution_count": 8,
     "metadata": {},
     "output_type": "execute_result"
    }
   ],
   "source": [
    "a.get('a')"
   ]
  },
  {
   "cell_type": "code",
   "execution_count": 9,
   "id": "a85a1c5d",
   "metadata": {},
   "outputs": [
    {
     "data": {
      "text/plain": [
       "14"
      ]
     },
     "execution_count": 9,
     "metadata": {},
     "output_type": "execute_result"
    }
   ],
   "source": [
    "a.get('b')"
   ]
  },
  {
   "cell_type": "code",
   "execution_count": 10,
   "id": "cc40e1c7",
   "metadata": {},
   "outputs": [
    {
     "data": {
      "text/plain": [
       "dict_keys(['a', 'b'])"
      ]
     },
     "execution_count": 10,
     "metadata": {},
     "output_type": "execute_result"
    }
   ],
   "source": [
    "a.keys()"
   ]
  },
  {
   "cell_type": "code",
   "execution_count": 11,
   "id": "f8cc38d2",
   "metadata": {},
   "outputs": [
    {
     "data": {
      "text/plain": [
       "dict_values([12, 14])"
      ]
     },
     "execution_count": 11,
     "metadata": {},
     "output_type": "execute_result"
    }
   ],
   "source": [
    "a.values()"
   ]
  },
  {
   "cell_type": "code",
   "execution_count": 12,
   "id": "2edc2fdf",
   "metadata": {},
   "outputs": [],
   "source": [
    "# update\n",
    "a['a']=24"
   ]
  },
  {
   "cell_type": "code",
   "execution_count": 13,
   "id": "0d1ee624",
   "metadata": {},
   "outputs": [
    {
     "data": {
      "text/plain": [
       "{'a': 24, 'b': 14}"
      ]
     },
     "execution_count": 13,
     "metadata": {},
     "output_type": "execute_result"
    }
   ],
   "source": [
    "a"
   ]
  },
  {
   "cell_type": "code",
   "execution_count": 14,
   "id": "0b49197f",
   "metadata": {},
   "outputs": [],
   "source": [
    "a.update({'a':16})"
   ]
  },
  {
   "cell_type": "code",
   "execution_count": 15,
   "id": "8afb20a3",
   "metadata": {},
   "outputs": [
    {
     "data": {
      "text/plain": [
       "{'a': 16, 'b': 14}"
      ]
     },
     "execution_count": 15,
     "metadata": {},
     "output_type": "execute_result"
    }
   ],
   "source": [
    "a"
   ]
  },
  {
   "cell_type": "code",
   "execution_count": 16,
   "id": "0a2d7763",
   "metadata": {},
   "outputs": [
    {
     "data": {
      "text/plain": [
       "16"
      ]
     },
     "execution_count": 16,
     "metadata": {},
     "output_type": "execute_result"
    }
   ],
   "source": [
    "# remove elements\n",
    "a.pop('a')"
   ]
  },
  {
   "cell_type": "code",
   "execution_count": 17,
   "id": "62437693",
   "metadata": {},
   "outputs": [
    {
     "data": {
      "text/plain": [
       "{'b': 14}"
      ]
     },
     "execution_count": 17,
     "metadata": {},
     "output_type": "execute_result"
    }
   ],
   "source": [
    "a"
   ]
  },
  {
   "cell_type": "code",
   "execution_count": 18,
   "id": "ba9d3082",
   "metadata": {},
   "outputs": [],
   "source": [
    "a.update({'a':14})"
   ]
  },
  {
   "cell_type": "code",
   "execution_count": 19,
   "id": "6a31c7b7",
   "metadata": {},
   "outputs": [
    {
     "data": {
      "text/plain": [
       "{'b': 14, 'a': 14}"
      ]
     },
     "execution_count": 19,
     "metadata": {},
     "output_type": "execute_result"
    }
   ],
   "source": [
    "a"
   ]
  },
  {
   "cell_type": "code",
   "execution_count": 20,
   "id": "cf4a62dc",
   "metadata": {},
   "outputs": [
    {
     "data": {
      "text/plain": [
       "('a', 14)"
      ]
     },
     "execution_count": 20,
     "metadata": {},
     "output_type": "execute_result"
    }
   ],
   "source": [
    "a.popitem()\n",
    "# If no argument given remove last value"
   ]
  },
  {
   "cell_type": "code",
   "execution_count": 21,
   "id": "7ec01df7",
   "metadata": {},
   "outputs": [
    {
     "data": {
      "text/plain": [
       "{'b': 14}"
      ]
     },
     "execution_count": 21,
     "metadata": {},
     "output_type": "execute_result"
    }
   ],
   "source": [
    "a"
   ]
  },
  {
   "cell_type": "code",
   "execution_count": 22,
   "id": "54aec063",
   "metadata": {},
   "outputs": [],
   "source": [
    "a.update({'a':14})"
   ]
  },
  {
   "cell_type": "code",
   "execution_count": 23,
   "id": "b174d919",
   "metadata": {},
   "outputs": [
    {
     "data": {
      "text/plain": [
       "{'b': 14, 'a': 14}"
      ]
     },
     "execution_count": 23,
     "metadata": {},
     "output_type": "execute_result"
    }
   ],
   "source": [
    "a"
   ]
  },
  {
   "cell_type": "code",
   "execution_count": 24,
   "id": "5d2b9ef0",
   "metadata": {},
   "outputs": [],
   "source": [
    "del a['b']"
   ]
  },
  {
   "cell_type": "code",
   "execution_count": 25,
   "id": "e650f0fd",
   "metadata": {},
   "outputs": [
    {
     "data": {
      "text/plain": [
       "{'a': 14}"
      ]
     },
     "execution_count": 25,
     "metadata": {},
     "output_type": "execute_result"
    }
   ],
   "source": [
    "a"
   ]
  },
  {
   "cell_type": "code",
   "execution_count": 26,
   "id": "4b6060cf",
   "metadata": {},
   "outputs": [
    {
     "data": {
      "text/plain": [
       "{'a': 14}"
      ]
     },
     "execution_count": 26,
     "metadata": {},
     "output_type": "execute_result"
    }
   ],
   "source": [
    "a"
   ]
  },
  {
   "cell_type": "code",
   "execution_count": 27,
   "id": "25941d63",
   "metadata": {},
   "outputs": [],
   "source": [
    "a.clear()"
   ]
  },
  {
   "cell_type": "code",
   "execution_count": 28,
   "id": "5987028e",
   "metadata": {},
   "outputs": [
    {
     "data": {
      "text/plain": [
       "{}"
      ]
     },
     "execution_count": 28,
     "metadata": {},
     "output_type": "execute_result"
    }
   ],
   "source": [
    "a"
   ]
  },
  {
   "cell_type": "code",
   "execution_count": 29,
   "id": "49489772",
   "metadata": {},
   "outputs": [],
   "source": [
    "a={'a':12,'b':14,'a':12}"
   ]
  },
  {
   "cell_type": "code",
   "execution_count": 30,
   "id": "a6f28b07",
   "metadata": {},
   "outputs": [
    {
     "name": "stdout",
     "output_type": "stream",
     "text": [
      "a\n",
      "b\n"
     ]
    }
   ],
   "source": [
    "for i in a:\n",
    "    print(i)"
   ]
  },
  {
   "cell_type": "code",
   "execution_count": 31,
   "id": "f7af1ac9",
   "metadata": {},
   "outputs": [
    {
     "name": "stdout",
     "output_type": "stream",
     "text": [
      "12\n",
      "14\n"
     ]
    }
   ],
   "source": [
    "for i in a:\n",
    "    print(a[i])"
   ]
  },
  {
   "cell_type": "code",
   "execution_count": 32,
   "id": "5ac0ece5",
   "metadata": {},
   "outputs": [
    {
     "name": "stdout",
     "output_type": "stream",
     "text": [
      "a 12\n",
      "b 14\n"
     ]
    }
   ],
   "source": [
    "for i in a:\n",
    "    print(i,a[i])\n",
    "      "
   ]
  },
  {
   "cell_type": "code",
   "execution_count": 33,
   "id": "93945de2",
   "metadata": {},
   "outputs": [
    {
     "name": "stdout",
     "output_type": "stream",
     "text": [
      "a 12\n",
      "b 14\n"
     ]
    }
   ],
   "source": [
    "for i,j in a.items():\n",
    "    print(i,j)\n",
    "    "
   ]
  },
  {
   "cell_type": "markdown",
   "id": "b65ab23b",
   "metadata": {},
   "source": [
    "### Function"
   ]
  },
  {
   "cell_type": "code",
   "execution_count": 34,
   "id": "a8651a8a",
   "metadata": {},
   "outputs": [],
   "source": [
    "#  a=12\n",
    "# b=134\n",
    "# c=a+b\n",
    "# The Function helps to break the program into the smaller part. \n",
    "# It organizes the code very effectively and avoids the repetition of the code.\n",
    "# Syntax\n",
    "# def functioname(parameter):\n",
    "#     block of code\n",
    "def hellow_sir(name):\n",
    "    print(\"hello function\", name)"
   ]
  },
  {
   "cell_type": "code",
   "execution_count": 35,
   "id": "5f180488",
   "metadata": {},
   "outputs": [
    {
     "name": "stdout",
     "output_type": "stream",
     "text": [
      "hello function Python\n"
     ]
    }
   ],
   "source": [
    "hellow_sir(\"Python\")"
   ]
  },
  {
   "cell_type": "code",
   "execution_count": 36,
   "id": "57079272",
   "metadata": {},
   "outputs": [
    {
     "name": "stdout",
     "output_type": "stream",
     "text": [
      "hello function rishabh\n"
     ]
    }
   ],
   "source": [
    "hellow_sir(\"rishabh\")"
   ]
  },
  {
   "cell_type": "code",
   "execution_count": 37,
   "id": "6ddc0bd0",
   "metadata": {},
   "outputs": [],
   "source": [
    "#print vs return\n",
    "# Python functions always return something, but if no return is declared, the function will return None\n",
    "def add_a(a,b):\n",
    "    print(a+b)\n",
    "#     return None"
   ]
  },
  {
   "cell_type": "code",
   "execution_count": 38,
   "id": "66b6a5d2",
   "metadata": {},
   "outputs": [
    {
     "name": "stdout",
     "output_type": "stream",
     "text": [
      "3\n"
     ]
    }
   ],
   "source": [
    "add_a(1,2)"
   ]
  },
  {
   "cell_type": "code",
   "execution_count": 39,
   "id": "767b8c02",
   "metadata": {},
   "outputs": [
    {
     "name": "stdout",
     "output_type": "stream",
     "text": [
      "3\n"
     ]
    }
   ],
   "source": [
    "var=add_a(1,2)"
   ]
  },
  {
   "cell_type": "code",
   "execution_count": 40,
   "id": "9eea0e3a",
   "metadata": {},
   "outputs": [
    {
     "name": "stdout",
     "output_type": "stream",
     "text": [
      "None\n"
     ]
    }
   ],
   "source": [
    "print(var)"
   ]
  },
  {
   "cell_type": "code",
   "execution_count": 41,
   "id": "7cb1db46",
   "metadata": {},
   "outputs": [],
   "source": [
    "def add_ret(a,b):\n",
    "    return a+b"
   ]
  },
  {
   "cell_type": "code",
   "execution_count": 42,
   "id": "449ee734",
   "metadata": {},
   "outputs": [
    {
     "data": {
      "text/plain": [
       "3"
      ]
     },
     "execution_count": 42,
     "metadata": {},
     "output_type": "execute_result"
    }
   ],
   "source": [
    "add_ret(1,2)"
   ]
  },
  {
   "cell_type": "code",
   "execution_count": 43,
   "id": "bc44ea54",
   "metadata": {},
   "outputs": [],
   "source": [
    "var2=add_ret(1,2)"
   ]
  },
  {
   "cell_type": "code",
   "execution_count": 44,
   "id": "97e814fa",
   "metadata": {},
   "outputs": [
    {
     "name": "stdout",
     "output_type": "stream",
     "text": [
      "3\n"
     ]
    }
   ],
   "source": [
    "print(var2)"
   ]
  },
  {
   "cell_type": "code",
   "execution_count": 45,
   "id": "efabb03c",
   "metadata": {},
   "outputs": [],
   "source": [
    "def even_odd(n):\n",
    "    if n%2==0:\n",
    "        return 0\n",
    "    else:\n",
    "        return 1"
   ]
  },
  {
   "cell_type": "code",
   "execution_count": 46,
   "id": "4402d0f4",
   "metadata": {},
   "outputs": [],
   "source": [
    "var=even_odd(4)"
   ]
  },
  {
   "cell_type": "code",
   "execution_count": 47,
   "id": "f917ce8d",
   "metadata": {},
   "outputs": [
    {
     "data": {
      "text/plain": [
       "int"
      ]
     },
     "execution_count": 47,
     "metadata": {},
     "output_type": "execute_result"
    }
   ],
   "source": [
    "type(var)\n",
    "# return type of function even_odd is integer"
   ]
  },
  {
   "cell_type": "code",
   "execution_count": 48,
   "id": "d67f3361",
   "metadata": {},
   "outputs": [
    {
     "data": {
      "text/plain": [
       "4"
      ]
     },
     "execution_count": 48,
     "metadata": {},
     "output_type": "execute_result"
    }
   ],
   "source": [
    "#  lambda function\n",
    "# syntax lambda argument:expression\n",
    "lam=(lambda x:x*2)\n",
    "lam(2)"
   ]
  },
  {
   "cell_type": "code",
   "execution_count": 49,
   "id": "7006e72c",
   "metadata": {},
   "outputs": [],
   "source": [
    "# Anonymous function inside normal function\n",
    "def lamd(x):\n",
    "    return lambda n:x*n\n"
   ]
  },
  {
   "cell_type": "code",
   "execution_count": 50,
   "id": "16ba668f",
   "metadata": {},
   "outputs": [],
   "source": [
    "abc=lamd(2)"
   ]
  },
  {
   "cell_type": "code",
   "execution_count": 51,
   "id": "a0785776",
   "metadata": {},
   "outputs": [
    {
     "data": {
      "text/plain": [
       "<function __main__.lamd.<locals>.<lambda>(n)>"
      ]
     },
     "execution_count": 51,
     "metadata": {},
     "output_type": "execute_result"
    }
   ],
   "source": [
    "abc"
   ]
  },
  {
   "cell_type": "code",
   "execution_count": 52,
   "id": "0131d8b8",
   "metadata": {},
   "outputs": [
    {
     "data": {
      "text/plain": [
       "6"
      ]
     },
     "execution_count": 52,
     "metadata": {},
     "output_type": "execute_result"
    }
   ],
   "source": [
    "abc(3)"
   ]
  },
  {
   "cell_type": "code",
   "execution_count": 53,
   "id": "19baee43",
   "metadata": {},
   "outputs": [
    {
     "data": {
      "text/plain": [
       "6"
      ]
     },
     "execution_count": 53,
     "metadata": {},
     "output_type": "execute_result"
    }
   ],
   "source": [
    "o=lambda a,b,c:a*b*c\n",
    "o(1,2,3)"
   ]
  },
  {
   "cell_type": "code",
   "execution_count": 54,
   "id": "f026985f",
   "metadata": {},
   "outputs": [],
   "source": [
    "# Map\n",
    "# The map() function applies a given function to each item of an iterable (list, tuple etc.) and returns an iterator"
   ]
  },
  {
   "cell_type": "code",
   "execution_count": 55,
   "id": "7f10d1bd",
   "metadata": {},
   "outputs": [],
   "source": [
    "map_list=[1,2,3,4]\n",
    "def map_(n):\n",
    "        return n*2"
   ]
  },
  {
   "cell_type": "code",
   "execution_count": 56,
   "id": "d21592c3",
   "metadata": {},
   "outputs": [],
   "source": [
    "# # using map fuction\n",
    "listttt=[1,2,3,4]\n",
    "\n",
    "variable=map(map_,map_list)"
   ]
  },
  {
   "cell_type": "code",
   "execution_count": 57,
   "id": "6a351e4c",
   "metadata": {},
   "outputs": [
    {
     "name": "stdout",
     "output_type": "stream",
     "text": [
      "[2, 4, 6, 8]\n"
     ]
    }
   ],
   "source": [
    "print(list(variable))"
   ]
  },
  {
   "cell_type": "code",
   "execution_count": 58,
   "id": "812ac878",
   "metadata": {},
   "outputs": [],
   "source": [
    "# filter\n",
    "# The filter() method filters the given sequence with the help of a function\n",
    "# that tests each element in the sequence to be true or not."
   ]
  },
  {
   "cell_type": "code",
   "execution_count": 59,
   "id": "93553445",
   "metadata": {},
   "outputs": [],
   "source": [
    "def even_odd(n):\n",
    "    return n%2==0"
   ]
  },
  {
   "cell_type": "code",
   "execution_count": 60,
   "id": "31b1976f",
   "metadata": {},
   "outputs": [],
   "source": [
    "li=[1,2,3,4,5]\n",
    "am=filter(even_odd,li)"
   ]
  },
  {
   "cell_type": "code",
   "execution_count": 61,
   "id": "e793b024",
   "metadata": {},
   "outputs": [
    {
     "data": {
      "text/plain": [
       "[2, 4]"
      ]
     },
     "execution_count": 61,
     "metadata": {},
     "output_type": "execute_result"
    }
   ],
   "source": [
    "list(am)"
   ]
  },
  {
   "cell_type": "code",
   "execution_count": 62,
   "id": "355adf5d",
   "metadata": {},
   "outputs": [],
   "source": [
    "am2=map(even_odd,li)"
   ]
  },
  {
   "cell_type": "code",
   "execution_count": 63,
   "id": "5c2a4a2b",
   "metadata": {},
   "outputs": [
    {
     "data": {
      "text/plain": [
       "[False, True, False, True, False]"
      ]
     },
     "execution_count": 63,
     "metadata": {},
     "output_type": "execute_result"
    }
   ],
   "source": [
    "list(am2)"
   ]
  },
  {
   "cell_type": "code",
   "execution_count": 64,
   "id": "f959c62e",
   "metadata": {},
   "outputs": [],
   "source": [
    "# reduce\n",
    "# In this a function and iterable is taken as arguments and it returns a single digit value.\n",
    "# it is present inside functools"
   ]
  },
  {
   "cell_type": "code",
   "execution_count": 65,
   "id": "1935f380",
   "metadata": {},
   "outputs": [
    {
     "data": {
      "text/plain": [
       "10"
      ]
     },
     "execution_count": 65,
     "metadata": {},
     "output_type": "execute_result"
    }
   ],
   "source": [
    "listt=[1,2,3,4]\n",
    "sum_=0\n",
    "def addall(n):\n",
    "    sum_=0\n",
    "    for i in n:\n",
    "        sum_=sum_+i\n",
    "    return sum_\n",
    "addall(listt)"
   ]
  },
  {
   "cell_type": "code",
   "execution_count": 66,
   "id": "44cec630",
   "metadata": {
    "scrolled": true
   },
   "outputs": [
    {
     "data": {
      "text/plain": [
       "10"
      ]
     },
     "execution_count": 66,
     "metadata": {},
     "output_type": "execute_result"
    }
   ],
   "source": [
    "# using reduce function\n",
    "from functools import reduce\n",
    "listt=[1,2,3,4]\n",
    "ans_reduce=reduce(lambda x,y:x+y,listt)\n",
    "ans_reduce"
   ]
  },
  {
   "cell_type": "code",
   "execution_count": 67,
   "id": "4488160b",
   "metadata": {},
   "outputs": [],
   "source": [
    "# filter inside map\n",
    "map_filter=map(lambda x:x*2, filter(lambda x:x>=3,[2,3,4])) #--> map(lamda x : x*2,[3,4])"
   ]
  },
  {
   "cell_type": "code",
   "execution_count": 68,
   "id": "05bdf047",
   "metadata": {},
   "outputs": [
    {
     "data": {
      "text/plain": [
       "[6, 8]"
      ]
     },
     "execution_count": 68,
     "metadata": {},
     "output_type": "execute_result"
    }
   ],
   "source": [
    "list(map_filter)"
   ]
  },
  {
   "cell_type": "code",
   "execution_count": 69,
   "id": "c4925e8d",
   "metadata": {},
   "outputs": [],
   "source": [
    "filter_map=filter(lambda x:x>=3,map(lambda x:x*2,[1,2,3,4])) #--> filter(lamda x:x>=3,[2,4,6,8])"
   ]
  },
  {
   "cell_type": "code",
   "execution_count": 70,
   "id": "e612d800",
   "metadata": {},
   "outputs": [
    {
     "data": {
      "text/plain": [
       "[4, 6, 8]"
      ]
     },
     "execution_count": 70,
     "metadata": {},
     "output_type": "execute_result"
    }
   ],
   "source": [
    "list(filter_map)"
   ]
  },
  {
   "cell_type": "code",
   "execution_count": 71,
   "id": "51257407",
   "metadata": {},
   "outputs": [],
   "source": [
    "# List Comprehension\n",
    "# It consist of brackets and inside we have expression which gets executes for each elemnt using for loop\n",
    "# Syntax --> new_list=[expression for i in old_list]\n",
    "listt=[1,2,3,4]\n",
    "emp=[]\n",
    "for i in listt:\n",
    "    emp.append(i*2)"
   ]
  },
  {
   "cell_type": "code",
   "execution_count": 72,
   "id": "66ac991d",
   "metadata": {},
   "outputs": [
    {
     "data": {
      "text/plain": [
       "[2, 4, 6, 8]"
      ]
     },
     "execution_count": 72,
     "metadata": {},
     "output_type": "execute_result"
    }
   ],
   "source": [
    "emp"
   ]
  },
  {
   "cell_type": "code",
   "execution_count": 73,
   "id": "042a4748",
   "metadata": {},
   "outputs": [],
   "source": [
    "# new_list=[expression for i in old_list]\n",
    "# shorter syntax\n",
    "new_list=[i*2 for i in listt]"
   ]
  },
  {
   "cell_type": "code",
   "execution_count": 74,
   "id": "00ec7bf4",
   "metadata": {},
   "outputs": [
    {
     "data": {
      "text/plain": [
       "[2, 4, 6, 8]"
      ]
     },
     "execution_count": 74,
     "metadata": {},
     "output_type": "execute_result"
    }
   ],
   "source": [
    "new_list"
   ]
  },
  {
   "cell_type": "code",
   "execution_count": 75,
   "id": "9a728398",
   "metadata": {},
   "outputs": [],
   "source": [
    "# we can apply condition inside list comprehension\n",
    "new_list2=[i for i in listt if i%2!=0]"
   ]
  },
  {
   "cell_type": "code",
   "execution_count": 76,
   "id": "726a26dd",
   "metadata": {},
   "outputs": [
    {
     "data": {
      "text/plain": [
       "[1, 3]"
      ]
     },
     "execution_count": 76,
     "metadata": {},
     "output_type": "execute_result"
    }
   ],
   "source": [
    "new_list2"
   ]
  },
  {
   "cell_type": "code",
   "execution_count": 77,
   "id": "f83639ba",
   "metadata": {},
   "outputs": [
    {
     "data": {
      "text/plain": [
       "[0, 1, 4, 9, 16]"
      ]
     },
     "execution_count": 77,
     "metadata": {},
     "output_type": "execute_result"
    }
   ],
   "source": [
    "# we can use lambda function too\n",
    "new_lambda=lambda x:[x**2 for x in range(5)]\n",
    "new_lambda(5)"
   ]
  },
  {
   "cell_type": "code",
   "execution_count": 78,
   "id": "a2e25784",
   "metadata": {},
   "outputs": [],
   "source": [
    "# iterator, iterable, iteration\n",
    "# iterator--> It is an object that has __iter__ method (iter) which return iterator or in simple anything\n",
    "# that can be looped (string, list, tuple,set)\n",
    "# iterable--> it is a object with __next__ method (next)\n",
    "\n",
    "listt=[1,2,3,4]\n",
    "lis2=iter(listt)\n",
    "# In this all values dont get initialized once, it initialises one by one."
   ]
  },
  {
   "cell_type": "code",
   "execution_count": 79,
   "id": "572a78ef",
   "metadata": {},
   "outputs": [
    {
     "data": {
      "text/plain": [
       "1"
      ]
     },
     "execution_count": 79,
     "metadata": {},
     "output_type": "execute_result"
    }
   ],
   "source": [
    "next(lis2)"
   ]
  },
  {
   "cell_type": "code",
   "execution_count": 80,
   "id": "b40b01ae",
   "metadata": {},
   "outputs": [
    {
     "name": "stdout",
     "output_type": "stream",
     "text": [
      "2\n",
      "3\n",
      "4\n"
     ]
    }
   ],
   "source": [
    "for i in lis2:\n",
    "    print(i)\n",
    "# we get values from 2 because 1 is already called by next method. \n",
    "# whenever we use for loop next method automatically call to get each element from the iterator\n",
    "# this process is known as iteration\n",
    "# In iteration it takes only one element at a time"
   ]
  },
  {
   "cell_type": "code",
   "execution_count": 81,
   "id": "0c0865e9",
   "metadata": {},
   "outputs": [],
   "source": [
    "# Break"
   ]
  },
  {
   "cell_type": "code",
   "execution_count": null,
   "id": "1e93e753",
   "metadata": {},
   "outputs": [],
   "source": []
  }
 ],
 "metadata": {
  "kernelspec": {
   "display_name": "Python 3",
   "language": "python",
   "name": "python3"
  },
  "language_info": {
   "codemirror_mode": {
    "name": "ipython",
    "version": 3
   },
   "file_extension": ".py",
   "mimetype": "text/x-python",
   "name": "python",
   "nbconvert_exporter": "python",
   "pygments_lexer": "ipython3",
   "version": "3.9.2"
  }
 },
 "nbformat": 4,
 "nbformat_minor": 5
}
