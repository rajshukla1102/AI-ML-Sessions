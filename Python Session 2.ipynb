{
 "cells": [
  {
   "cell_type": "code",
   "execution_count": 1,
   "id": "da094a93",
   "metadata": {},
   "outputs": [],
   "source": [
    "# Control Statement\n",
    "# for loop\n",
    "# while loop"
   ]
  },
  {
   "cell_type": "code",
   "execution_count": 2,
   "id": "4cb7332f",
   "metadata": {},
   "outputs": [
    {
     "name": "stdout",
     "output_type": "stream",
     "text": [
      "s t r i n g "
     ]
    }
   ],
   "source": [
    "# for loop\n",
    "# for i in sequence:\n",
    "#     statement\n",
    "# for(int i=0;i<n;i++)\n",
    "a=\"string\"\n",
    "for i in a:\n",
    "    print(i,end=\" \")"
   ]
  },
  {
   "cell_type": "code",
   "execution_count": 3,
   "id": "d829f7e4",
   "metadata": {},
   "outputs": [
    {
     "name": "stdout",
     "output_type": "stream",
     "text": [
      "1\n",
      "6\n",
      "11\n"
     ]
    }
   ],
   "source": [
    "# nested for \n",
    "# a=\"string\"\n",
    "# b=\"python\"\n",
    "# for i in a:\n",
    "#     for j in b:\n",
    "#         print(a,b)\n",
    "# range()-->\n",
    "# it returns a sequence of no. by default zero and increment by +1\n",
    "for i in range(1,15,5):\n",
    "#     1, 2 3 4\n",
    "    print(i)"
   ]
  },
  {
   "cell_type": "code",
   "execution_count": 4,
   "id": "02edd627",
   "metadata": {},
   "outputs": [
    {
     "name": "stdout",
     "output_type": "stream",
     "text": [
      "6\n",
      "* \n",
      "\n",
      "* * \n",
      "\n",
      "* * * \n",
      "\n",
      "* * * * \n",
      "\n",
      "* * * * * \n",
      "\n"
     ]
    }
   ],
   "source": [
    "# *     \n",
    "# * *\n",
    "# * * *\n",
    "# * * * *\n",
    "num=int(input())\n",
    "for i in range(1,num):\n",
    "    for j in range(0,i):\n",
    "        print(\"*\",end=\" \")\n",
    "    print('\\n')"
   ]
  },
  {
   "cell_type": "code",
   "execution_count": 5,
   "id": "c3658567",
   "metadata": {},
   "outputs": [
    {
     "name": "stdout",
     "output_type": "stream",
     "text": [
      "6\n",
      "prime\n"
     ]
    }
   ],
   "source": [
    "# Write a Program to check if the given no. is prime no. or not\n",
    "# 2 3 7 5 11\n",
    "num=int(input()) #6\n",
    "a=0 #a=1\n",
    "if num>1:\n",
    "    for i in range(2,num): #2,7---> 2, 3 , 4 , 5 , 6 #2,4--> 2, 3\n",
    "          if (num%i==0): #6%2==0\n",
    "#             a=1\n",
    "            break\n",
    "if a==1:\n",
    "    print(\"not a prime\")\n",
    "else:\n",
    "    print(\"prime\")"
   ]
  },
  {
   "cell_type": "code",
   "execution_count": 6,
   "id": "6f62c433",
   "metadata": {},
   "outputs": [],
   "source": [
    "# while loop\n",
    "# a=0 initialization\n",
    "# while(a>1) condition\n",
    "#     statement\n",
    "#       a=a+1 increment\n"
   ]
  },
  {
   "cell_type": "code",
   "execution_count": 7,
   "id": "d902f156",
   "metadata": {},
   "outputs": [
    {
     "name": "stdout",
     "output_type": "stream",
     "text": [
      "5\n",
      "15\n"
     ]
    }
   ],
   "source": [
    "user_input=int(input()) #5 4 3  2 1 0\n",
    "sum_p=0 #5 9 12 14 15\n",
    "while(user_input>0): # 5>0\n",
    "    sum_p=sum_p+user_input # 0+5 sum=5 9 12 14 15\n",
    "    user_input=user_input-1 # 5-=4-1=3-1=2-1=1-1=0\n",
    "print(sum_p)"
   ]
  },
  {
   "cell_type": "code",
   "execution_count": 8,
   "id": "0ae0ca17",
   "metadata": {},
   "outputs": [
    {
     "name": "stdout",
     "output_type": "stream",
     "text": [
      "5\n",
      "\n",
      "\n",
      "* \n",
      "\n",
      "* * \n",
      "\n",
      "* * * \n",
      "\n",
      "* * * * \n",
      "\n"
     ]
    }
   ],
   "source": [
    "# Pattern Program\n",
    "user_input=int(input())\n",
    "i=1\n",
    "while(i<=user_input):\n",
    "    j=1\n",
    "    while(j<i):\n",
    "        print(\"*\", end=\" \")\n",
    "        j=j+1\n",
    "    print('\\n')\n",
    "    i=i+1"
   ]
  },
  {
   "cell_type": "code",
   "execution_count": 9,
   "id": "ea108f48",
   "metadata": {},
   "outputs": [],
   "source": [
    "# diff in for and while \n",
    "# when you dont know the no. of iteration--->while loop\n",
    "#  when we know the no. of iteration--->for loop"
   ]
  },
  {
   "cell_type": "code",
   "execution_count": 10,
   "id": "3993b8c9",
   "metadata": {},
   "outputs": [
    {
     "name": "stdout",
     "output_type": "stream",
     "text": [
      "0\n",
      "1\n",
      "2\n",
      "3\n",
      "4\n"
     ]
    }
   ],
   "source": [
    "# Example \n",
    "for i in range(0,5):\n",
    "    print(i)"
   ]
  },
  {
   "cell_type": "code",
   "execution_count": 11,
   "id": "5153307c",
   "metadata": {},
   "outputs": [
    {
     "name": "stdout",
     "output_type": "stream",
     "text": [
      "Enter Your namerishabh\n",
      "Enter Your namequit\n"
     ]
    }
   ],
   "source": [
    "while True:\n",
    "    name=input(\"Enter Your name\")\n",
    "    if name=='quit':\n",
    "        break\n",
    "    else:\n",
    "        continue"
   ]
  },
  {
   "cell_type": "code",
   "execution_count": 12,
   "id": "262ab83f",
   "metadata": {},
   "outputs": [],
   "source": [
    "# list \n",
    "# A Python List can be easily identified by square brackets [ ]\n",
    "# List items are ordered, changeable, and allow duplicate values\n",
    "# changeable--> The list is changeable, meaning that we can change, add, and remove items in a list after it has been created.\n",
    "#ordered-->When we say that lists are ordered, it means that the items have a defined order, and that order will not change.\n",
    "\n",
    "listt=[1,4,8.9,7,\"string\"]"
   ]
  },
  {
   "cell_type": "code",
   "execution_count": 13,
   "id": "d3123056",
   "metadata": {},
   "outputs": [
    {
     "data": {
      "text/plain": [
       "[1, 4, 8.9, 7, 'string']"
      ]
     },
     "execution_count": 13,
     "metadata": {},
     "output_type": "execute_result"
    }
   ],
   "source": [
    "listt"
   ]
  },
  {
   "cell_type": "code",
   "execution_count": 14,
   "id": "b773817e",
   "metadata": {},
   "outputs": [],
   "source": [
    "# Updating value with index no.\n",
    "listt[4]=\"rishabh\""
   ]
  },
  {
   "cell_type": "code",
   "execution_count": 15,
   "id": "4f18ff85",
   "metadata": {},
   "outputs": [
    {
     "data": {
      "text/plain": [
       "[1, 4, 8.9, 7, 'rishabh']"
      ]
     },
     "execution_count": 15,
     "metadata": {},
     "output_type": "execute_result"
    }
   ],
   "source": [
    "listt"
   ]
  },
  {
   "cell_type": "code",
   "execution_count": 16,
   "id": "5614a0e3",
   "metadata": {},
   "outputs": [
    {
     "data": {
      "text/plain": [
       "8.9"
      ]
     },
     "execution_count": 16,
     "metadata": {},
     "output_type": "execute_result"
    }
   ],
   "source": [
    "# Accessing the value\n",
    "listt[2]"
   ]
  },
  {
   "cell_type": "code",
   "execution_count": 17,
   "id": "d62187a2",
   "metadata": {},
   "outputs": [
    {
     "name": "stdout",
     "output_type": "stream",
     "text": [
      "1\n",
      "4\n",
      "8.9\n",
      "7\n",
      "rishabh\n"
     ]
    }
   ],
   "source": [
    "for i in listt:\n",
    "    print(i)"
   ]
  },
  {
   "cell_type": "code",
   "execution_count": 18,
   "id": "47ca818e",
   "metadata": {},
   "outputs": [
    {
     "data": {
      "text/plain": [
       "[1, 4, 8.9, 7, 'rishabh', 'class1']"
      ]
     },
     "execution_count": 18,
     "metadata": {},
     "output_type": "execute_result"
    }
   ],
   "source": [
    "# Adding values\n",
    "listt.append(\"class1\")\n",
    "listt"
   ]
  },
  {
   "cell_type": "code",
   "execution_count": 19,
   "id": "bd29db8b",
   "metadata": {},
   "outputs": [
    {
     "data": {
      "text/plain": [
       "[1, 4, 'tru', 8.9, 7, 'rishabh', 'class1']"
      ]
     },
     "execution_count": 19,
     "metadata": {},
     "output_type": "execute_result"
    }
   ],
   "source": [
    "listt.insert(2,\"tru\")\n",
    "listt"
   ]
  },
  {
   "cell_type": "code",
   "execution_count": 20,
   "id": "68d0158a",
   "metadata": {},
   "outputs": [
    {
     "data": {
      "text/plain": [
       "[1, 4, 'tru', 8.9, 7, 'rishabh', 'class1', 'value']"
      ]
     },
     "execution_count": 20,
     "metadata": {},
     "output_type": "execute_result"
    }
   ],
   "source": [
    "listt.extend([\"value\"])\n",
    "listt"
   ]
  },
  {
   "cell_type": "code",
   "execution_count": 21,
   "id": "b74e7a45",
   "metadata": {},
   "outputs": [
    {
     "data": {
      "text/plain": [
       "'value'"
      ]
     },
     "execution_count": 21,
     "metadata": {},
     "output_type": "execute_result"
    }
   ],
   "source": [
    "# Removing Values\n",
    "# pop()--> if we dont provide index no. it will remove last element\n",
    "listt.pop()"
   ]
  },
  {
   "cell_type": "code",
   "execution_count": 22,
   "id": "41ce7982",
   "metadata": {},
   "outputs": [
    {
     "data": {
      "text/plain": [
       "'tru'"
      ]
     },
     "execution_count": 22,
     "metadata": {},
     "output_type": "execute_result"
    }
   ],
   "source": [
    "listt.pop(2)"
   ]
  },
  {
   "cell_type": "code",
   "execution_count": 23,
   "id": "e4957338",
   "metadata": {},
   "outputs": [
    {
     "data": {
      "text/plain": [
       "[1, 4, 8.9, 7, 'rishabh', 'class1']"
      ]
     },
     "execution_count": 23,
     "metadata": {},
     "output_type": "execute_result"
    }
   ],
   "source": [
    "listt"
   ]
  },
  {
   "cell_type": "code",
   "execution_count": 24,
   "id": "779247cf",
   "metadata": {},
   "outputs": [
    {
     "data": {
      "text/plain": [
       "[1, 8.9, 7, 'rishabh', 'class1']"
      ]
     },
     "execution_count": 24,
     "metadata": {},
     "output_type": "execute_result"
    }
   ],
   "source": [
    "listt.remove(4)\n",
    "listt"
   ]
  },
  {
   "cell_type": "code",
   "execution_count": 25,
   "id": "857744e5",
   "metadata": {},
   "outputs": [],
   "source": [
    "# del listt\n",
    "# del deletes the whole list"
   ]
  },
  {
   "cell_type": "code",
   "execution_count": 26,
   "id": "c30392c4",
   "metadata": {},
   "outputs": [],
   "source": [
    "listt.clear()"
   ]
  },
  {
   "cell_type": "code",
   "execution_count": 27,
   "id": "190d13f8",
   "metadata": {},
   "outputs": [
    {
     "data": {
      "text/plain": [
       "[]"
      ]
     },
     "execution_count": 27,
     "metadata": {},
     "output_type": "execute_result"
    }
   ],
   "source": [
    "listt"
   ]
  },
  {
   "cell_type": "code",
   "execution_count": 28,
   "id": "5f9a346d",
   "metadata": {},
   "outputs": [],
   "source": [
    "# Tuple\n",
    "# Tuples are written with round brackets.\n",
    "# It is ordered and unchangeable"
   ]
  },
  {
   "cell_type": "code",
   "execution_count": 29,
   "id": "456287bd",
   "metadata": {},
   "outputs": [
    {
     "name": "stdout",
     "output_type": "stream",
     "text": [
      "('1', '2', '4')\n"
     ]
    }
   ],
   "source": [
    "a=('1','2','4')\n",
    "print(a)"
   ]
  },
  {
   "cell_type": "code",
   "execution_count": 30,
   "id": "3806e001",
   "metadata": {},
   "outputs": [
    {
     "data": {
      "text/plain": [
       "'1'"
      ]
     },
     "execution_count": 30,
     "metadata": {},
     "output_type": "execute_result"
    }
   ],
   "source": [
    "# how access value from tuple\n",
    "a[0]"
   ]
  },
  {
   "cell_type": "code",
   "execution_count": 31,
   "id": "b2236698",
   "metadata": {},
   "outputs": [
    {
     "data": {
      "text/plain": [
       "('1', '2')"
      ]
     },
     "execution_count": 31,
     "metadata": {},
     "output_type": "execute_result"
    }
   ],
   "source": [
    "a[0:2]"
   ]
  },
  {
   "cell_type": "code",
   "execution_count": 32,
   "id": "17c788b2",
   "metadata": {},
   "outputs": [
    {
     "data": {
      "text/plain": [
       "('2',)"
      ]
     },
     "execution_count": 32,
     "metadata": {},
     "output_type": "execute_result"
    }
   ],
   "source": [
    "a[-2:-1]"
   ]
  },
  {
   "cell_type": "code",
   "execution_count": 33,
   "id": "c574a0bd",
   "metadata": {},
   "outputs": [],
   "source": [
    "# As we know tuple is unchangebale we cannot change its values after it is created but \n",
    "# we can change tuple to list and apply all updation function on it\n",
    "# tuple->list->update/delete->updatedlist->tuple using tuple()->updatedtuple"
   ]
  },
  {
   "cell_type": "code",
   "execution_count": 34,
   "id": "446bd27f",
   "metadata": {},
   "outputs": [
    {
     "data": {
      "text/plain": [
       "('1', 'abc', '2', '4')"
      ]
     },
     "execution_count": 34,
     "metadata": {},
     "output_type": "execute_result"
    }
   ],
   "source": [
    "b=list(a)\n",
    "b.insert(1,\"abc\")\n",
    "y=tuple(b)\n",
    "y"
   ]
  },
  {
   "cell_type": "code",
   "execution_count": 35,
   "id": "05cf93d9",
   "metadata": {},
   "outputs": [],
   "source": [
    "del a"
   ]
  },
  {
   "cell_type": "code",
   "execution_count": 36,
   "id": "7a7ce5b0",
   "metadata": {},
   "outputs": [
    {
     "ename": "NameError",
     "evalue": "name 'a' is not defined",
     "output_type": "error",
     "traceback": [
      "\u001b[1;31m---------------------------------------------------------------------------\u001b[0m",
      "\u001b[1;31mNameError\u001b[0m                                 Traceback (most recent call last)",
      "\u001b[1;32m<ipython-input-36-d6322c94b92d>\u001b[0m in \u001b[0;36m<module>\u001b[1;34m\u001b[0m\n\u001b[1;32m----> 1\u001b[1;33m \u001b[0ma\u001b[0m\u001b[1;33m\u001b[0m\u001b[1;33m\u001b[0m\u001b[0m\n\u001b[0m\u001b[0;32m      2\u001b[0m \u001b[1;31m# in above cell our tuple has been deleted thats why we are getting error here\u001b[0m\u001b[1;33m\u001b[0m\u001b[1;33m\u001b[0m\u001b[1;33m\u001b[0m\u001b[0m\n",
      "\u001b[1;31mNameError\u001b[0m: name 'a' is not defined"
     ]
    }
   ],
   "source": [
    "a\n",
    "# in above cell our tuple has been deleted thats why we are getting error here"
   ]
  },
  {
   "cell_type": "code",
   "execution_count": 37,
   "id": "f36b266c",
   "metadata": {},
   "outputs": [],
   "source": [
    "# Dictionary\n",
    "# In dic values are stored in key value pair\n",
    "# dic is ordered and changeable\n",
    "# Syntax-variable={\"key\":\"value\"}"
   ]
  },
  {
   "cell_type": "code",
   "execution_count": 38,
   "id": "22ec818e",
   "metadata": {},
   "outputs": [],
   "source": [
    "val={'a':\"4\",\"b\":5}"
   ]
  },
  {
   "cell_type": "code",
   "execution_count": 39,
   "id": "5f03e2db",
   "metadata": {},
   "outputs": [
    {
     "data": {
      "text/plain": [
       "{'a': '4', 'b': 5}"
      ]
     },
     "execution_count": 39,
     "metadata": {},
     "output_type": "execute_result"
    }
   ],
   "source": [
    "val"
   ]
  },
  {
   "cell_type": "code",
   "execution_count": null,
   "id": "c7fc51e5",
   "metadata": {},
   "outputs": [],
   "source": []
  }
 ],
 "metadata": {
  "kernelspec": {
   "display_name": "Python 3",
   "language": "python",
   "name": "python3"
  },
  "language_info": {
   "codemirror_mode": {
    "name": "ipython",
    "version": 3
   },
   "file_extension": ".py",
   "mimetype": "text/x-python",
   "name": "python",
   "nbconvert_exporter": "python",
   "pygments_lexer": "ipython3",
   "version": "3.9.2"
  }
 },
 "nbformat": 4,
 "nbformat_minor": 5
}
